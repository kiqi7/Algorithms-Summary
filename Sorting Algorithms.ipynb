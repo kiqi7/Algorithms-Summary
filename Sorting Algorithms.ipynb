{
 "cells": [
  {
   "cell_type": "markdown",
   "metadata": {},
   "source": [
    "# Common Sorting Algorithms"
   ]
  },
  {
   "cell_type": "markdown",
   "metadata": {},
   "source": [
    "There are some Common Sorting Algorithms\n",
    "\n",
    "- Selection Sort\n",
    "- Bubble Sort\n",
    "- Insertion Sort\n",
    "- Merge Sort\n",
    "- Quick Sort\n",
    "- Heap Sort\n",
    "- Counting Sort\n",
    "- Radix Sort\n",
    "- Bucket Sort"
   ]
  },
  {
   "cell_type": "code",
   "execution_count": 44,
   "metadata": {},
   "outputs": [],
   "source": [
    "import numpy as np\n",
    "import random \n",
    "import math"
   ]
  },
  {
   "cell_type": "code",
   "execution_count": 2,
   "metadata": {},
   "outputs": [],
   "source": [
    "sample = random.sample(range(1, 100), 10) "
   ]
  },
  {
   "cell_type": "code",
   "execution_count": 40,
   "metadata": {},
   "outputs": [
    {
     "data": {
      "text/plain": [
       "[16, 17, 28, 23, 1, 45, 38, 85, 15, 50]"
      ]
     },
     "execution_count": 40,
     "metadata": {},
     "output_type": "execute_result"
    }
   ],
   "source": [
    "test = sample.copy()\n",
    "test"
   ]
  },
  {
   "cell_type": "markdown",
   "metadata": {},
   "source": [
    "## Selection Sort 选择排序"
   ]
  },
  {
   "cell_type": "markdown",
   "metadata": {},
   "source": [
    "In-place comparison-based algorithm in which the list is divided into two parts, the sorted part at the left end and the unsorted part at the right end. \n",
    " \n",
    "The smallest element is selected from the unsorted array and swapped with the leftmost element, and that element becomes a part of the sorted array.\n",
    "\n",
    "\n",
    "Time Complexity: **O(n2)**"
   ]
  },
  {
   "cell_type": "code",
   "execution_count": 4,
   "metadata": {},
   "outputs": [
    {
     "data": {
      "text/plain": [
       "[1, 15, 16, 17, 23, 28, 38, 45, 50, 85]"
      ]
     },
     "execution_count": 4,
     "metadata": {},
     "output_type": "execute_result"
    }
   ],
   "source": [
    "for i in range(len(test)-1):\n",
    "    cur = i\n",
    "    for j in range(cur + 1, len(test)):\n",
    "        if test[cur] > test[j]:\n",
    "            cur = j\n",
    "    if i == cur:\n",
    "        pass\n",
    "    else:\n",
    "        test[i],test[cur] = test[cur],test[i]\n",
    "test"
   ]
  },
  {
   "cell_type": "markdown",
   "metadata": {},
   "source": [
    "## Bubble Sort 冒泡排序"
   ]
  },
  {
   "cell_type": "markdown",
   "metadata": {},
   "source": [
    "Comparison-based algorithm in which each pair of adjacent elements is compared and the elements are swapped if they are not in order.\n",
    "\n",
    "Average Case Time Complexity: **O(n*n)**\n",
    "\n",
    "Best Case Time Complexity: **O(n)**"
   ]
  },
  {
   "cell_type": "code",
   "execution_count": 5,
   "metadata": {},
   "outputs": [
    {
     "data": {
      "text/plain": [
       "[1, 15, 16, 17, 23, 28, 38, 45, 50, 85]"
      ]
     },
     "execution_count": 5,
     "metadata": {},
     "output_type": "execute_result"
    }
   ],
   "source": [
    "for i in range(1, len(test)-1):\n",
    "    for j in range(len(test) - 1):\n",
    "        if test[j] > test[j+1]:\n",
    "            test[j],test[j+1] = test[j+1],test[j]\n",
    "test"
   ]
  },
  {
   "cell_type": "markdown",
   "metadata": {},
   "source": [
    "## Insertion Sort 插入排序"
   ]
  },
  {
   "cell_type": "markdown",
   "metadata": {},
   "source": [
    "In-place comparison-based sorting algorithm.\n",
    "\n",
    "The array is searched sequentially and unsorted items are moved and inserted into the sorted sub-list \n",
    "\n",
    "Time Complexity: **Ο(n2)**"
   ]
  },
  {
   "cell_type": "code",
   "execution_count": 8,
   "metadata": {},
   "outputs": [
    {
     "data": {
      "text/plain": [
       "[1, 15, 16, 17, 23, 28, 38, 45, 50, 85]"
      ]
     },
     "execution_count": 8,
     "metadata": {},
     "output_type": "execute_result"
    }
   ],
   "source": [
    "for i in range(1,len(test)):\n",
    "    cur = test[i]\n",
    "    j = i -1 \n",
    "    while test[j] > cur and j>=0:\n",
    "        test[j+1] = test[j]\n",
    "        j -=1\n",
    "    test[j+1] = cur\n",
    "test"
   ]
  },
  {
   "cell_type": "markdown",
   "metadata": {},
   "source": [
    "## Merge Sort 归并排序"
   ]
  },
  {
   "cell_type": "markdown",
   "metadata": {},
   "source": [
    "Based on divide and conquer technique.\n",
    "\n",
    "Merge sort first divides the array into equal halves and then combines them in a sorted manner.\n",
    "\n",
    "\n",
    "Time Complexity: **Ο(n log n)**"
   ]
  },
  {
   "cell_type": "code",
   "execution_count": 17,
   "metadata": {},
   "outputs": [
    {
     "data": {
      "text/plain": [
       "[1, 15, 16, 17, 23, 28, 38, 45, 50, 85]"
      ]
     },
     "execution_count": 17,
     "metadata": {},
     "output_type": "execute_result"
    }
   ],
   "source": [
    "def Merge(left,right):\n",
    "    r, l = 0, 0\n",
    "    res = []\n",
    "    while l<len(left) and r<len(right):\n",
    "        if left[l]<=right[r]:\n",
    "            res.append(left[l])\n",
    "            l +=1\n",
    "        else:\n",
    "            res.append(right[r])\n",
    "            r += 1\n",
    "    res += list(left[l:])\n",
    "    res += list(right[r:])\n",
    "    return res\n",
    "    \n",
    "def MergeSort(test):\n",
    "    if len(test) <= 1:\n",
    "        return test\n",
    "    mid = len(test) // 2\n",
    "    L = MergeSort(test[:mid])\n",
    "    R = MergeSort(test[mid:])\n",
    "    return Merge(L,R)\n",
    "\n",
    "ans = MergeSort(test)\n",
    "ans"
   ]
  },
  {
   "cell_type": "markdown",
   "metadata": {},
   "source": [
    "## Quick Sort 快速排序"
   ]
  },
  {
   "cell_type": "markdown",
   "metadata": {},
   "source": [
    "A large array is partitioned into two arrays one of which holds values smaller than the specified value, say pivot, based on which the partition is made and another array holds values greater than the pivot value.\n",
    "\n",
    "\n",
    "Time Complexity: **O(nLogn)**\n",
    "\n",
    "\n",
    "Worst Time Complexity: **O(n2)**"
   ]
  },
  {
   "cell_type": "code",
   "execution_count": 22,
   "metadata": {},
   "outputs": [
    {
     "data": {
      "text/plain": [
       "[1, 15, 16, 17, 23, 28, 38, 50, 85]"
      ]
     },
     "execution_count": 22,
     "metadata": {},
     "output_type": "execute_result"
    }
   ],
   "source": [
    "def QuickSort(test):\n",
    "    if len(test) >= 2:\n",
    "        mid = test[len(test) // 2]\n",
    "        low, high = [],[]\n",
    "        test.remove(mid)\n",
    "        for cur in test:\n",
    "            if cur >= mid:\n",
    "                high.append(cur)\n",
    "            else:\n",
    "                low.append(cur)\n",
    "        return QuickSort(low) + [mid] + QuickSort(high)\n",
    "    else:\n",
    "        return test\n",
    "ans = QuickSort(test)\n",
    "ans"
   ]
  },
  {
   "cell_type": "markdown",
   "metadata": {},
   "source": [
    "## Heap Sort 堆排序"
   ]
  },
  {
   "cell_type": "markdown",
   "metadata": {},
   "source": [
    "Comparison based sorting technique based on Binary Heap data structure.\n",
    "\n",
    "Heapsort can be thought of as an improved selection sort: like selection sort, heapsort divides its input into a sorted and an unsorted region, and it iteratively shrinks the unsorted region by extracting the largest element from it and inserting it into the sorted region. \n",
    "\n",
    "Time complexity: **O(Logn)**"
   ]
  },
  {
   "cell_type": "code",
   "execution_count": 25,
   "metadata": {},
   "outputs": [
    {
     "data": {
      "text/plain": [
       "[1, 15, 16, 17, 23, 28, 38, 45, 50, 85]"
      ]
     },
     "execution_count": 25,
     "metadata": {},
     "output_type": "execute_result"
    }
   ],
   "source": [
    "def HeapSort(test):\n",
    "    def heapify(start, end):\n",
    "        root = start\n",
    "        while True:\n",
    "            child = 2 * root + 1 # left child # right child = 2 * root + 2\n",
    "            if child > end:\n",
    "                break\n",
    "            if child +1 <= end and test[child] < test[child +1]:\n",
    "                child += 1\n",
    "            if test[root] < test[child]:\n",
    "                test[root], test[child] =  test[child], test[root]\n",
    "                root = child\n",
    "            else:\n",
    "                break\n",
    "                \n",
    "    #Build Max Heap\n",
    "    for start in range((len(test) - 2) // 2, -1, -1):\n",
    "        heapify(start,len(test) - 1)\n",
    "        \n",
    "    #HeapSort\n",
    "    for end in range(len(test) - 1, 0, -1):\n",
    "        test[0], test[end] = test[end],test[0]\n",
    "        heapify(0, end - 1)\n",
    "    return test\n",
    "ans = HeapSort(test)\n",
    "ans"
   ]
  },
  {
   "cell_type": "markdown",
   "metadata": {},
   "source": [
    "## Counting Sort 计数排序"
   ]
  },
  {
   "cell_type": "markdown",
   "metadata": {},
   "source": [
    "It operates by counting the number of objects that have each distinct key value, and using arithmetic on those counts to determine the positions of each key value in the output sequence.\n",
    "\n",
    "Time Complexity: O(n+k); k is the range of input."
   ]
  },
  {
   "cell_type": "code",
   "execution_count": 42,
   "metadata": {},
   "outputs": [],
   "source": [
    "def CountingSort(test):\n",
    "    output = [0 for i in range(len(test))]\n",
    "    count = [0 for i in range(max(test) + 1)] # count list\n",
    "    for i in test:\n",
    "        count[i] = count[i] +1\n",
    "    print(count)\n",
    "    for i in range(1,len(count)):\n",
    "        count[i] = count[i] + count[i-1]\n",
    "    print(count)\n",
    "    \n",
    "    for j in test:\n",
    "        output[count[j] - 1] = j\n",
    "        count[j] = count[j] - 1\n",
    "    print(count)\n",
    "    \n",
    "    return output"
   ]
  },
  {
   "cell_type": "code",
   "execution_count": 43,
   "metadata": {},
   "outputs": [
    {
     "name": "stdout",
     "output_type": "stream",
     "text": [
      "[0, 1, 0, 0, 0, 0, 0, 0, 0, 0, 0, 0, 0, 0, 0, 1, 1, 1, 0, 0, 0, 0, 0, 1, 0, 0, 0, 0, 1, 0, 0, 0, 0, 0, 0, 0, 0, 0, 1, 0, 0, 0, 0, 0, 0, 1, 0, 0, 0, 0, 1, 0, 0, 0, 0, 0, 0, 0, 0, 0, 0, 0, 0, 0, 0, 0, 0, 0, 0, 0, 0, 0, 0, 0, 0, 0, 0, 0, 0, 0, 0, 0, 0, 0, 0, 1]\n",
      "[0, 1, 1, 1, 1, 1, 1, 1, 1, 1, 1, 1, 1, 1, 1, 2, 3, 4, 4, 4, 4, 4, 4, 5, 5, 5, 5, 5, 6, 6, 6, 6, 6, 6, 6, 6, 6, 6, 7, 7, 7, 7, 7, 7, 7, 8, 8, 8, 8, 8, 9, 9, 9, 9, 9, 9, 9, 9, 9, 9, 9, 9, 9, 9, 9, 9, 9, 9, 9, 9, 9, 9, 9, 9, 9, 9, 9, 9, 9, 9, 9, 9, 9, 9, 9, 10]\n",
      "[0, 0, 1, 1, 1, 1, 1, 1, 1, 1, 1, 1, 1, 1, 1, 1, 2, 3, 4, 4, 4, 4, 4, 4, 5, 5, 5, 5, 5, 6, 6, 6, 6, 6, 6, 6, 6, 6, 6, 7, 7, 7, 7, 7, 7, 7, 8, 8, 8, 8, 8, 9, 9, 9, 9, 9, 9, 9, 9, 9, 9, 9, 9, 9, 9, 9, 9, 9, 9, 9, 9, 9, 9, 9, 9, 9, 9, 9, 9, 9, 9, 9, 9, 9, 9, 9]\n"
     ]
    },
    {
     "data": {
      "text/plain": [
       "[1, 15, 16, 17, 23, 28, 38, 45, 50, 85]"
      ]
     },
     "execution_count": 43,
     "metadata": {},
     "output_type": "execute_result"
    }
   ],
   "source": [
    "y = CountingSort(test)\n",
    "y"
   ]
  },
  {
   "cell_type": "markdown",
   "metadata": {},
   "source": [
    "## Radix Sort 基数排序"
   ]
  },
  {
   "cell_type": "markdown",
   "metadata": {},
   "source": [
    "Radix sorts can be implemented to start at either the most significant digit (MSD) or least significant digit (LSD).\n",
    "\n",
    "从个位数开始，逐一比较排序，重复至最高位数，排序结束。\n",
    "\n",
    "Time Complexity:  **O(n)**"
   ]
  },
  {
   "cell_type": "code",
   "execution_count": 50,
   "metadata": {},
   "outputs": [
    {
     "data": {
      "text/plain": [
       "[1, 15, 16, 17, 23, 28, 38, 45, 50, 85]"
      ]
     },
     "execution_count": 50,
     "metadata": {},
     "output_type": "execute_result"
    }
   ],
   "source": [
    "def RadixSort(test, radix = 10):\n",
    "    K = int(math.ceil(math.log(max(test) + 1,radix)))\n",
    "    for i in range(1, K + 1):\n",
    "        bucket = [[] for j in range(radix)]\n",
    "        for val in test:\n",
    "            bucket[val%(radix ** i) // (radix**(i-1))].append(val)\n",
    "        del test[:]\n",
    "        for each in bucket:\n",
    "            test.extend(each)\n",
    "    return test\n",
    "ans = RadixSort(test, radix = 10)\n",
    "ans"
   ]
  },
  {
   "cell_type": "markdown",
   "metadata": {},
   "source": [
    "## Bucket sort 桶排序"
   ]
  },
  {
   "cell_type": "markdown",
   "metadata": {},
   "source": [
    "Bucket Sort is a sorting technique that sorts the elements by first dividing the elements into several groups called buckets. The elements inside each bucket are sorted using any of the suitable sorting algorithms or recursively calling the same algorithm.\n",
    "\n",
    "Worst Time Complexity: **O(n2)**\n",
    "\n",
    "Best Time Complexity: **O(n + k)**"
   ]
  },
  {
   "cell_type": "code",
   "execution_count": 52,
   "metadata": {},
   "outputs": [
    {
     "data": {
      "text/plain": [
       "[1, 15, 16, 17, 23, 28, 38, 45, 50, 85]"
      ]
     },
     "execution_count": 52,
     "metadata": {},
     "output_type": "execute_result"
    }
   ],
   "source": [
    "def BucketSort(test):\n",
    "    buckets = [0 for i in range((max(test) - min(test)) + 1)]\n",
    "    for i in range(len(test)):\n",
    "        buckets[test[i] - min(test)] += 1\n",
    "    output = []\n",
    "    for i in range(len(buckets)):\n",
    "        if buckets[i] != 0:\n",
    "            output += [i + min(test)] * buckets[i]\n",
    "    return output\n",
    "ans = BucketSort(test)\n",
    "ans"
   ]
  }
 ],
 "metadata": {
  "kernelspec": {
   "display_name": "Python 3",
   "language": "python",
   "name": "python3"
  },
  "language_info": {
   "codemirror_mode": {
    "name": "ipython",
    "version": 3
   },
   "file_extension": ".py",
   "mimetype": "text/x-python",
   "name": "python",
   "nbconvert_exporter": "python",
   "pygments_lexer": "ipython3",
   "version": "3.7.6"
  }
 },
 "nbformat": 4,
 "nbformat_minor": 4
}
